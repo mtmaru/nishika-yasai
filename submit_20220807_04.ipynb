{
 "cells": [
  {
   "cell_type": "code",
   "execution_count": 1,
   "id": "06fc15ae-a9ec-46f5-bb8d-fcdf184075f1",
   "metadata": {},
   "outputs": [],
   "source": [
    "import numpy as np\n",
    "import pandas as pd\n",
    "\n",
    "train = pd.read_csv(\"data/train.csv\")\n",
    "train[\"date\"] = pd.to_datetime(train[\"date\"], format = \"%Y%m%d\")\n",
    "test = pd.read_csv(\"data/test.csv\")\n",
    "\n",
    "price = (\n",
    "    train\n",
    "    .assign(mode_price_202204 = lambda df: df[\"mode_price\"].mask(~df[\"date\"].between(\"2022-04-17\", \"2022-04-30\"), np.nan))\n",
    "    .assign(mode_price_202105 = lambda df: df[\"mode_price\"].mask(~df[\"date\"].between(\"2021-05-01\", \"2021-05-31\"), np.nan))\n",
    "    .assign(mode_price_202005 = lambda df: df[\"mode_price\"].mask(~df[\"date\"].between(\"2020-05-01\", \"2020-05-31\"), np.nan))\n",
    "    .groupby([\"kind\"], as_index = False)[[\"mode_price_202204\", \"mode_price_202105\", \"mode_price_202005\"]].mean()\n",
    "    .assign(mode_price = lambda df: (\n",
    "        df[\"mode_price_202204\"]\n",
    "        .mask(df[\"kind\"].isin([\"きゅうり\", \"そらまめ\", \"トマト\", \"ピーマン\", \"ミニトマト\", \"レタス\"]), df[\"mode_price_202105\"])\n",
    "        .mask(df[\"kind\"].isin([\"だいこん\", \"ねぎ\", \"セルリー\"]), df[\"mode_price_202005\"])\n",
    "    ))\n",
    ")\n",
    "\n",
    "submit = test[[\"kind\", \"date\"]].merge(price[[\"kind\", \"mode_price\"]], how = \"left\", on = \"kind\")\n",
    "submit.to_csv(\"submit/submit_20220807_04.csv\", header = True, index = False)"
   ]
  }
 ],
 "metadata": {
  "environment": {
   "kernel": "python3",
   "name": "common-cpu.m91",
   "type": "gcloud",
   "uri": "gcr.io/deeplearning-platform-release/base-cpu:m91"
  },
  "kernelspec": {
   "display_name": "Python 3",
   "language": "python",
   "name": "python3"
  },
  "language_info": {
   "codemirror_mode": {
    "name": "ipython",
    "version": 3
   },
   "file_extension": ".py",
   "mimetype": "text/x-python",
   "name": "python",
   "nbconvert_exporter": "python",
   "pygments_lexer": "ipython3",
   "version": "3.7.12"
  }
 },
 "nbformat": 4,
 "nbformat_minor": 5
}
